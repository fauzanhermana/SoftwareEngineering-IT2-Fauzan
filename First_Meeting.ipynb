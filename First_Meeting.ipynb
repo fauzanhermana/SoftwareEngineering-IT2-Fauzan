{
  "nbformat": 4,
  "nbformat_minor": 0,
  "metadata": {
    "colab": {
      "name": "First Meeting.ipynb",
      "provenance": [],
      "collapsed_sections": []
    },
    "kernelspec": {
      "name": "python3",
      "display_name": "Python 3"
    },
    "language_info": {
      "name": "python"
    }
  },
  "cells": [
    {
      "cell_type": "code",
      "metadata": {
        "colab": {
          "base_uri": "https://localhost:8080/"
        },
        "id": "mvC-7btG50WL",
        "outputId": "b409ccfc-cc67-4430-e21b-7f199eb5f1f0"
      },
      "source": [
        "# variabel\n",
        "a = 2 #integer / bilangan bulat \n",
        "hewan = \"Harimau\" # String\n",
        "#untuk dasarnya tidak ada yang namanya char\n",
        "b = 'A' #string\n",
        "c = True # boolean\n",
        "d = False # boolean\n",
        "e = 2.0 # float\n",
        "f = [] #list/array\n",
        "g = {} #dictionary\n",
        "h = () #tuple\n",
        "\n",
        "# print\n",
        "print(hewan)\n",
        "print(\"Harimau\")\n",
        "print(2)\n",
        "print(2+3)\n",
        "print(True)\n",
        "\n",
        "# print 2\n",
        "print(\"Nama hewannya adalah: \" + hewan)\n",
        "print(\"Nama hewannya adalah: {}\".format(a))\n",
        "print(\"Nama : {}, Tempat tinggal : {}, Umur : {}\".format(\"Fauzan\",\"Bogor\",\"20\"))\n",
        "\n",
        "Nama_Siswa = [\"Iki\",\"Egi\",\"Anjar\",\"Ojan\"]\n",
        "\n",
        "List_1 = [\"Anjar\"] * 5\n",
        "print(List_1)\n",
        "\n",
        "Nama_Siswa[0:3]\n",
        "\n",
        "print(\"Hobi saya adalah {}\".format(\"Bermain game\"))\n",
        "\n",
        "List_A = [\"Dul\",\"Jan\",\"Jay\"]\n",
        "List_A[-2]\n",
        "\n",
        "Nama_Siswa.append(\"Iki\")\n",
        "print(Nama_Siswa)\n",
        "\n",
        "list = [\"A\",\"B\",\"C\",\"D\"] \n",
        "print(list)\n",
        "\n",
        "print(\"itu : \" + str(0.5))\n",
        "(2,3)\n",
        "\n",
        "Huruf = [\"a\",\"b\",\"c\"] * 4\n",
        "print(Huruf)"
      ],
      "execution_count": 7,
      "outputs": [
        {
          "output_type": "stream",
          "name": "stdout",
          "text": [
            "Harimau\n",
            "Harimau\n",
            "2\n",
            "5\n",
            "True\n",
            "Nama hewannya adalah: Harimau\n",
            "Nama hewannya adalah: 2\n",
            "Nama : Fauzan, Tempat tinggal : Bogor, Umur : 20\n",
            "['Anjar', 'Anjar', 'Anjar', 'Anjar', 'Anjar']\n",
            "Hobi saya adalah Bermain game\n",
            "['Iki', 'Egi', 'Anjar', 'Ojan', 'Iki']\n",
            "['A', 'B', 'C', 'D']\n",
            "itu : 0.5\n",
            "['a', 'b', 'c', 'a', 'b', 'c', 'a', 'b', 'c', 'a', 'b', 'c']\n"
          ]
        }
      ]
    }
  ]
}